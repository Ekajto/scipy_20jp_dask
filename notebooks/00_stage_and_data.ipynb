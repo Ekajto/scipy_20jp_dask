{
 "cells": [
  {
   "cell_type": "markdown",
   "metadata": {},
   "source": [
    "# 00 Setting the Stage & Getting the Data"
   ]
  },
  {
   "cell_type": "markdown",
   "metadata": {},
   "source": [
    "> \"Unless you try to do something beyond what you have already mastered, you will never grow.” ~ \n",
    "Ronald E. Osborn"
   ]
  },
  {
   "cell_type": "markdown",
   "metadata": {},
   "source": [
    "## Outline for this notebook  \n",
    "\n",
    "1. What is Data Analytics? 🐍  \n",
    "2. What is a Data Analyst?\n",
    "3. What is the Data Analytics Cycle?\n",
    "4. Small, Medium, and Big Data\n",
    "5. Problem Definition\n",
    "6. Data Gathering\n",
    "7. Questions\n",
    "\n",
    "In this section, we will be covering 2 of the most important stages of any data analytics process: problem definition and data gathering. We will begin by talking about what data analytics is, what is a data analyst"
   ]
  },
  {
   "cell_type": "markdown",
   "metadata": {},
   "source": [
    "## 1. What is Data Analytics? 🐍"
   ]
  },
  {
   "cell_type": "code",
   "execution_count": null,
   "metadata": {},
   "outputs": [],
   "source": []
  },
  {
   "cell_type": "markdown",
   "metadata": {},
   "source": [
    "![Data Analytics Cycle](images/4.png)"
   ]
  },
  {
   "cell_type": "code",
   "execution_count": null,
   "metadata": {},
   "outputs": [],
   "source": []
  },
  {
   "cell_type": "markdown",
   "metadata": {},
   "source": [
    "## 2. What is a Data Analyst?"
   ]
  },
  {
   "cell_type": "markdown",
   "metadata": {},
   "source": [
    "![Data Analytics Cycle](images/5.png)"
   ]
  },
  {
   "cell_type": "code",
   "execution_count": null,
   "metadata": {},
   "outputs": [],
   "source": []
  },
  {
   "cell_type": "code",
   "execution_count": null,
   "metadata": {},
   "outputs": [],
   "source": []
  },
  {
   "cell_type": "code",
   "execution_count": null,
   "metadata": {},
   "outputs": [],
   "source": []
  },
  {
   "cell_type": "code",
   "execution_count": null,
   "metadata": {},
   "outputs": [],
   "source": []
  },
  {
   "cell_type": "code",
   "execution_count": null,
   "metadata": {},
   "outputs": [],
   "source": []
  },
  {
   "cell_type": "markdown",
   "metadata": {},
   "source": [
    "![solving](images/7.png)"
   ]
  },
  {
   "cell_type": "markdown",
   "metadata": {},
   "source": [
    "As data detectives, we want to make sure we have at least a loosly define outline of what our projects involving data might look like. In particular, we want to be careful with those involving large amounts of data since errors can, at the very least, be very time consuming, and, at worst, very expensive.\n",
    "\n",
    "For our task, we are currently sick and tired of COVID and we want to start planning our next vacation. More specifically, we would love to scratch some countries off our bucket list, but, since this can be quite costly, we should start by figuring out where are we going, where are we staying, and what kind of prices are we looking at if we decide to go there?\n",
    "\n",
    "Since hotels are expensive, we thought we would give Airbnb a try "
   ]
  },
  {
   "cell_type": "code",
   "execution_count": null,
   "metadata": {},
   "outputs": [],
   "source": []
  },
  {
   "cell_type": "code",
   "execution_count": null,
   "metadata": {},
   "outputs": [],
   "source": []
  },
  {
   "cell_type": "code",
   "execution_count": null,
   "metadata": {},
   "outputs": [],
   "source": []
  },
  {
   "cell_type": "markdown",
   "metadata": {},
   "source": [
    "![Gathering Data](images/9.png)"
   ]
  },
  {
   "cell_type": "markdown",
   "metadata": {},
   "source": [
    "We will be using data scraped from a scraping tool called, [Inside Airbnb](http://insideairbnb.com/index.html). Yes, we will be scraping a bit of data from the scraper itsef. More specifically, we will be taking the skeleton (an html version of the website), downloading it, and then extracting all of the links that will help us get the data from it.\n",
    "\n",
    "We will start by importing the following packages to help us get the data we need.\n",
    "\n",
    "- `os`\n",
    "- `pandas`\n",
    "- `numpy`\n",
    "- `requests`\n",
    "- `bs4`\n",
    "- `wget`\n",
    "- `glob`\n",
    "- `urllib`\n",
    "- `dask`"
   ]
  },
  {
   "cell_type": "code",
   "execution_count": 15,
   "metadata": {},
   "outputs": [],
   "source": [
    "import pandas as pd\n",
    "from bs4 import BeautifulSoup\n",
    "import requests\n",
    "import os\n",
    "import wget\n",
    "import dask\n",
    "import numpy as np\n",
    "from dask.diagnostics import ProgressBar\n",
    "from glob import glob\n",
    "import urllib\n",
    "\n",
    "pd.options.display.max_columns = None"
   ]
  },
  {
   "cell_type": "markdown",
   "metadata": {},
   "source": [
    "Since we will be creating several directories, the first thing we will do is to assign a path to the directory where all of our data will go into and come out from."
   ]
  },
  {
   "cell_type": "code",
   "execution_count": 16,
   "metadata": {},
   "outputs": [],
   "source": [
    "path = 'data'"
   ]
  },
  {
   "cell_type": "markdown",
   "metadata": {},
   "source": [
    "We will also create a function that takes in a existing path as a starting point and many additional directory names that we might want/need to create along the course of this tutorial. In addition, our function will check whether the directory we are trying to create exists or not, then combine all arguments into one directory and return such directory.\n",
    "\n",
    "You might have already seen the `*args` parameter in a function a few times already while using Python. What this does is that it gives us the ability to provide multiple arguments to a function without explicitely adding them to the construction of the function."
   ]
  },
  {
   "cell_type": "code",
   "execution_count": 17,
   "metadata": {},
   "outputs": [],
   "source": [
    "def check_or_add(old_path, *args):\n",
    "    \n",
    "    \"\"\"\n",
    "    This function will help us check whether one or more directories exists, and\n",
    "    if they don't exist, it will create, combine, and return a new directory.\n",
    "    \"\"\"\n",
    "        \n",
    "    if not os.path.exists(os.path.join(old_path, *args)):\n",
    "        os.makedirs(os.path.join(old_path, *args))\n",
    "\n",
    "    return os.path.join(old_path, *args)"
   ]
  },
  {
   "cell_type": "markdown",
   "metadata": {},
   "source": [
    "We will use Python's `requests` module to send a request to Inside Airbnb, use our path creation function to add this html file to a directory called, `html_data`, and then save the file as text using a context manager construct."
   ]
  },
  {
   "cell_type": "code",
   "execution_count": 28,
   "metadata": {},
   "outputs": [],
   "source": [
    "web_data = requests.get('http://insideairbnb.com/get-the-data.html')"
   ]
  },
  {
   "cell_type": "code",
   "execution_count": 29,
   "metadata": {},
   "outputs": [],
   "source": [
    "path_4_source = check_or_add(path, 'html_data')"
   ]
  },
  {
   "cell_type": "code",
   "execution_count": 30,
   "metadata": {},
   "outputs": [],
   "source": [
    "with open(os.path.join(path_4_source, 'insideairbnb.html'), 'w') as html:\n",
    "    html.write(web_data.text)"
   ]
  },
  {
   "cell_type": "markdown",
   "metadata": {},
   "source": [
    "We will add the path to our new file, plus the name of the file we just saved, to a variable called `html_doc`. We will then read it back in as bytes, and parse the document using `BeautifulSoup`."
   ]
  },
  {
   "cell_type": "code",
   "execution_count": 31,
   "metadata": {},
   "outputs": [
    {
     "data": {
      "text/plain": [
       "'data/html_data/insideairbnb.html'"
      ]
     },
     "execution_count": 31,
     "metadata": {},
     "output_type": "execute_result"
    }
   ],
   "source": [
    "html_doc = os.path.join(path_4_source, 'insideairbnb.html')\n",
    "html_doc"
   ]
  },
  {
   "cell_type": "code",
   "execution_count": 32,
   "metadata": {},
   "outputs": [],
   "source": [
    "with open(html_doc, 'r') as file: \n",
    "    soup = BeautifulSoup(file, 'html.parser')"
   ]
  },
  {
   "cell_type": "markdown",
   "metadata": {},
   "source": [
    "`BeautifulSoup` will allow us to extract the links we need without much hassle. While we could figure out a way to get the exact links we need,  maybe with a regular expression or a similar approach, we will extract all links at this stage by parsing the html file and taking out the links we need. For this, we will use a Python list comprehension."
   ]
  },
  {
   "cell_type": "code",
   "execution_count": 33,
   "metadata": {},
   "outputs": [],
   "source": [
    "list_of_links = [link.get('href') for link in soup.find_all('a')]"
   ]
  },
  {
   "cell_type": "code",
   "execution_count": 34,
   "metadata": {},
   "outputs": [
    {
     "data": {
      "text/plain": [
       "['index.html',\n",
       " 'about.html',\n",
       " 'behind.html',\n",
       " 'get-the-data.html',\n",
       " 'https://twitter.com/share',\n",
       " 'about.html#disclaimers',\n",
       " 'http://creativecommons.org/publicdomain/zero/1.0/',\n",
       " 'amsterdam/',\n",
       " 'http://data.insideairbnb.com/the-netherlands/north-holland/amsterdam/2020-09-09/data/listings.csv.gz',\n",
       " 'http://data.insideairbnb.com/the-netherlands/north-holland/amsterdam/2020-09-09/data/calendar.csv.gz']"
      ]
     },
     "execution_count": 34,
     "metadata": {},
     "output_type": "execute_result"
    }
   ],
   "source": [
    "list_of_links[:10]"
   ]
  },
  {
   "cell_type": "code",
   "execution_count": 35,
   "metadata": {},
   "outputs": [
    {
     "data": {
      "text/plain": [
       "20499"
      ]
     },
     "execution_count": 35,
     "metadata": {},
     "output_type": "execute_result"
    }
   ],
   "source": [
    "len(list_of_links)"
   ]
  },
  {
   "cell_type": "markdown",
   "metadata": {},
   "source": [
    "Notice that the files we need are the ones that end in `listings.csv.gz` and, to extract them, (or filter out those we don't want), we can take advantage pandas' many string methods. Let's begin by converting our list into a pandas series, which can also be referred to as a 1 dimensional array with a maleable index."
   ]
  },
  {
   "cell_type": "code",
   "execution_count": 36,
   "metadata": {},
   "outputs": [
    {
     "data": {
      "text/plain": [
       "0                   index.html\n",
       "1                   about.html\n",
       "2                  behind.html\n",
       "3            get-the-data.html\n",
       "4    https://twitter.com/share\n",
       "Name: links, dtype: object"
      ]
     },
     "execution_count": 36,
     "metadata": {},
     "output_type": "execute_result"
    }
   ],
   "source": [
    "our_list = pd.Series(list_of_links, name='links')\n",
    "\n",
    "our_list.head() # let's examine the first five rows of our new pandas Series"
   ]
  },
  {
   "cell_type": "markdown",
   "metadata": {},
   "source": [
    "We now have to get rid of `NaN` values, grab the listings links, and filter out those likns we don't with a mask. We will also reset the index just because it is nice to have values that start from 0 for our index."
   ]
  },
  {
   "cell_type": "code",
   "execution_count": 37,
   "metadata": {},
   "outputs": [
    {
     "data": {
      "text/plain": [
       "0    http://data.insideairbnb.com/the-netherlands/n...\n",
       "1    http://data.insideairbnb.com/the-netherlands/n...\n",
       "2    http://data.insideairbnb.com/the-netherlands/n...\n",
       "3    http://data.insideairbnb.com/the-netherlands/n...\n",
       "4    http://data.insideairbnb.com/the-netherlands/n...\n",
       "Name: links, dtype: object"
      ]
     },
     "execution_count": 37,
     "metadata": {},
     "output_type": "execute_result"
    }
   ],
   "source": [
    "our_list.dropna(inplace=True) # drop NaN's and keep the changes\n",
    "\n",
    "condition = our_list.str.endswith('/listings.csv.gz') # let's find the listings we need\n",
    "files_we_want = our_list[condition].reset_index(drop=True) # filter out what we don't need and reset the index\n",
    "files_we_want.head() # make sure everything when through as expected"
   ]
  },
  {
   "cell_type": "markdown",
   "metadata": {},
   "source": [
    "Now that we have the links we need, let's go ahead and examine how many we have."
   ]
  },
  {
   "cell_type": "code",
   "execution_count": 38,
   "metadata": {},
   "outputs": [
    {
     "data": {
      "text/plain": [
       "(2898,)"
      ]
     },
     "execution_count": 38,
     "metadata": {},
     "output_type": "execute_result"
    }
   ],
   "source": [
    "files_we_want.shape"
   ]
  },
  {
   "cell_type": "markdown",
   "metadata": {},
   "source": [
    "That's certainly still a lot of files to download (but at least is not 20k), so how about we have a look at how many files we have per country and, where possible, per city. Since we can imagine places such as the US, the UK, and Australia having multiple cities with people doing business through Airbnb."
   ]
  },
  {
   "cell_type": "code",
   "execution_count": 39,
   "metadata": {},
   "outputs": [
    {
     "data": {
      "text/plain": [
       "array(['the-netherlands', 'belgium', 'united-states', 'greece', 'spain',\n",
       "       'australia', 'china', 'belize', 'italy', 'germany', 'france',\n",
       "       'united-kingdom', 'argentina', 'south-africa', 'denmark',\n",
       "       'ireland', 'switzerland', 'turkey', 'portugal', 'mexico', 'canada',\n",
       "       'norway', 'czech-republic', 'brazil', 'chile', 'singapore',\n",
       "       'sweden', 'taiwan', 'japan', 'austria'], dtype=object)"
      ]
     },
     "execution_count": 39,
     "metadata": {},
     "output_type": "execute_result"
    }
   ],
   "source": [
    "countries = files_we_want.str.split('/').str.get(3)\n",
    "unique_countries = countries.unique()\n",
    "unique_countries"
   ]
  },
  {
   "cell_type": "code",
   "execution_count": 40,
   "metadata": {},
   "outputs": [
    {
     "name": "stdout",
     "output_type": "stream",
     "text": [
      "The-Netherlands has ------> 58\n",
      "Belgium has ------> 83\n",
      "United-States has ------> 859\n",
      "Greece has ------> 82\n",
      "Spain has ------> 259\n",
      "Australia has ------> 233\n",
      "China has ------> 57\n",
      "Belize has ------> 15\n",
      "Italy has ------> 246\n",
      "Germany has ------> 63\n",
      "France has ------> 117\n",
      "United-Kingdom has ------> 125\n",
      "Argentina has ------> 14\n",
      "South-Africa has ------> 24\n",
      "Denmark has ------> 27\n",
      "Ireland has ------> 45\n",
      "Switzerland has ------> 86\n",
      "Turkey has ------> 25\n",
      "Portugal has ------> 56\n",
      "Mexico has ------> 16\n",
      "Canada has ------> 191\n",
      "Norway has ------> 26\n",
      "Czech-Republic has ------> 25\n",
      "Brazil has ------> 27\n",
      "Chile has ------> 5\n",
      "Singapore has ------> 16\n",
      "Sweden has ------> 25\n",
      "Taiwan has ------> 25\n",
      "Japan has ------> 16\n",
      "Austria has ------> 52\n"
     ]
    }
   ],
   "source": [
    "for country in unique_countries:\n",
    "    print(f\"{country.title()} has ------> {len(files_we_want[countries == country])}\")"
   ]
  },
  {
   "cell_type": "markdown",
   "metadata": {},
   "source": [
    "## Exercise 1\n",
    "\n",
    "Find out how many cities are represented in our dataset, and print the country, city, and how many files for that city do we have."
   ]
  },
  {
   "cell_type": "code",
   "execution_count": null,
   "metadata": {},
   "outputs": [],
   "source": []
  },
  {
   "cell_type": "markdown",
   "metadata": {},
   "source": [
    "Answers below! Don't peak! 👀"
   ]
  },
  {
   "cell_type": "code",
   "execution_count": null,
   "metadata": {
    "jupyter": {
     "source_hidden": true
    }
   },
   "outputs": [],
   "source": [
    "cities = files_we_want.str.split('/').str.get(5)\n",
    "unique_cities = cities.unique()\n",
    "unique_cities"
   ]
  },
  {
   "cell_type": "code",
   "execution_count": null,
   "metadata": {
    "jupyter": {
     "source_hidden": true
    }
   },
   "outputs": [],
   "source": [
    "for city in unique_cities:\n",
    "    print(f\"{city.title()} has ------> {len(files_we_want[cities == city])}\")"
   ]
  },
  {
   "cell_type": "markdown",
   "metadata": {},
   "source": [
    "It is time for us to pick a country or city for our analysis.\n",
    "\n",
    "### Pick a country you would like to visit."
   ]
  },
  {
   "cell_type": "code",
   "execution_count": 41,
   "metadata": {},
   "outputs": [],
   "source": [
    "my_country = 'japan'"
   ]
  },
  {
   "cell_type": "markdown",
   "metadata": {},
   "source": [
    "If you forget the amount of files available in each country and/or city when trying to come up with a decision, you can check them individually with the following function. There is also a table with more information coming up soon."
   ]
  },
  {
   "cell_type": "code",
   "execution_count": 42,
   "metadata": {},
   "outputs": [],
   "source": [
    "def check_len_files(country_city):\n",
    "    \n",
    "    if country_city in unique_countries:\n",
    "        \n",
    "        condition = files_we_want.str.contains(country_city)\n",
    "        data_we_need = files_we_want[condition]\n",
    "        \n",
    "        return len(data_we_need)\n",
    "    \n",
    "    elif country_city in unique_cities:\n",
    "        \n",
    "        condition = files_we_want.str.contains(country_city)\n",
    "        \n",
    "        data_we_need = files_we_want[condition]\n",
    "        \n",
    "        return len(data_we_need)\n",
    "    \n",
    "    else:\n",
    "        print(\"Sorry, your country or city is not on the list or it was misspelled\")"
   ]
  },
  {
   "cell_type": "code",
   "execution_count": 44,
   "metadata": {},
   "outputs": [
    {
     "name": "stdout",
     "output_type": "stream",
     "text": [
      "16\n",
      "16\n",
      "233\n"
     ]
    }
   ],
   "source": [
    "print(check_len_files(my_country))\n",
    "print(check_len_files('japan'))\n",
    "print(check_len_files('australia'))\n",
    "# print(check_len_files('new-york-city'))"
   ]
  },
  {
   "cell_type": "markdown",
   "metadata": {},
   "source": [
    "The following is one of the most important functions in the whole notebook as it is the one that is going to allow us to get the data we need into our computers.\n",
    "\n",
    "The function takes in the following arguments:\n",
    "- `urls` --> This is strictly a pandas series with the list of urls we need\n",
    "- `country` --> This would the country you want to get data for\n",
    "- `path_to_files` --> This is where the data will be downloaded to\n",
    "- `countries_unique` --> This is the list of countries where Airbnb operated in\n",
    "- `unique_num` --> If you do not need all files, you can specify how many you need. Default is all\n",
    "\n",
    "And it operates as follows:\n",
    "\n",
    "1. It first checks whether the country you have picked is in the list of unique countries\n",
    "2. Then it creates a boolean array (aka a mask)\n",
    "3. Passes it through our pandas series containing the urls to filter out the countries you don't need\n",
    "4. Then it downloads the files you want and\n",
    "5. Saves them into a new folder it creates called `raw_data` in the path you provided"
   ]
  },
  {
   "cell_type": "code",
   "execution_count": 45,
   "metadata": {},
   "outputs": [],
   "source": [
    "def get_me_specific_data(urls, country, path_to_files, countries_unique, unique_num = None):\n",
    "    \n",
    "    \"\"\"\n",
    "    \n",
    "    \"\"\"\n",
    "    \n",
    "    # we go over every country\n",
    "    if country in countries_unique:\n",
    "        \n",
    "        # check whether it exists in our list of urls and create a mask\n",
    "        condition = urls.str.contains(country)\n",
    "        \n",
    "        # we pass that mask to our pandas series\n",
    "        data_we_need = urls[condition]\n",
    "        \n",
    "        # create a new directory for the raw data\n",
    "        new_dir = check_or_add(path_to_files, country, 'raw_data')\n",
    "        \n",
    "        # we first check if a unique number of files was specified\n",
    "        if unique_num:\n",
    "            \n",
    "            num = 0\n",
    "            \n",
    "            # loop until we reach that point\n",
    "            while num < unique_num:\n",
    "                \n",
    "                # we first try to download the file with wget\n",
    "                try:\n",
    "                    # if wget doesn't work, we try with urllib\n",
    "                    wget.download(data_we_need.iloc[num], os.path.join(new_dir, f'{country}_{num}.csv.gz'))\n",
    "                except:\n",
    "                    try:\n",
    "                        urllib.request.urlretrieve(data_we_need.iloc[num], os.path.join(new_dir, f'{country}_{num}.csv.gz'))\n",
    "                    except:\n",
    "                        continue\n",
    "                num += 1\n",
    "        else:\n",
    "            \n",
    "            # iterate over the links we want\n",
    "            for num, data in enumerate(data_we_need):\n",
    "                \n",
    "                # we first try to download the file with wget\n",
    "                try:\n",
    "                    # if wget doesn't work, we try with urllib\n",
    "                    wget.download(data, os.path.join(new_dir, f'{country}_{num}.csv.gz'))\n",
    "                except:\n",
    "                    try:\n",
    "                        # if urllib doesn't work, we move on to the next one\n",
    "                        urllib.request.urlretrieve(data, os.path.join(new_dir, f'{country}_{num}.csv.gz'))\n",
    "                    except:\n",
    "                        continue"
   ]
  },
  {
   "cell_type": "markdown",
   "metadata": {},
   "source": [
    "The following function should not be used in this tutorial but is here for reference. What it does is that it will get all dowloadable files from Inside Airbnb in a similar fashion as with the previous formula.\n",
    "\n",
    "```python\n",
    "def get_me_all_data(urls, path_to_files, countries_unique):\n",
    "    \"\"\"\n",
    "    NOTE: Only use this function if you intend to download all of the data.\n",
    "    \n",
    "    Arguments:\n",
    "    urls: pandas series with the links to iterate over\n",
    "    path_to_files: path where you would like to save your files at\n",
    "    countries_unique: iterable with the countries where Airbnb operates\n",
    "    \n",
    "    \"\"\"\n",
    "    for country in countries_unique: # we go over every country\n",
    "        \n",
    "        condition = urls.str.contains(country) # create a mask for it\n",
    "        \n",
    "        data_we_need = urls[condition] # we pass that mask to our pandas series\n",
    "        \n",
    "        new_dir = check_or_add(path_to_files, country, 'raw_data') # create a new directory for the raw data\n",
    "        \n",
    "        for num, data in enumerate(data_we_need): # iterate over the links we want\n",
    "        \n",
    "            try: # we first try to download the file with wget\n",
    "                wget.download(data, os.path.join(new_dir, f'{country}_{num}.csv.gz'))\n",
    "            except:\n",
    "                try: # if wget doesn't work, we try with urllib\n",
    "                    urllib.request.urlretrieve(data, os.path.join(new_dir, f'{country}_{num}.csv.gz'))\n",
    "                except:\n",
    "                    continue # if urllib doesn't work, we move on to the next one\n",
    "```\n",
    "\n",
    "Let's put our new function to use and get the first batch of data we will be using. In honor to our host, we will be picking Japan as our first country,\n",
    "\n",
    "Here is a table with the countries, the amount of files available, the total size of the uncompressed and the compressed files, and the average size per file. The recommended way to pick a country and the amount of files you should download is as follows:\n",
    "1. Pick a reasonable GB size for your batch (somewhere between 2 and 4 GB should be perfect).\n",
    "2. Pick a country.\n",
    "3. If the amount of files in that country don't amount to the size you choose in step 1, pick another country or pick multiple countries until you have the desired amount of GB.\n",
    "4. If you want pick multiple countries but the total size of one or more of them is too large for what you think your computer can manage, divide the total GB size of that country by the GB space you have left and that would be the amount of files you should choose.\n",
    "5. Use the `get_me_specific_data()` function with the appropriate parameters and wait for a bit.\n",
    "\n",
    "\n",
    "| Country         | # of Cities | # of Files | GB Size Compressed  | GB Size Decompressed|\n",
    "|:----------------|:------------|:-----------|:--------------------|:--------------------|\n",
    "| The-Netherlands |     1       |     58     |        851 M        |        3.6 G        |\n",
    "| Belgium         |     3       |     83     |        245 M        |        1.0 G        |\n",
    "| United-States   |    28       |    859     |        8.4 G        |       35.0 G        |\n",
    "| Greece          |     4       |     82     |        902 M        |        3.8 G        |\n",
    "| Spain           |     9       |    259     |        2.7 G        |       12.0 G        |\n",
    "| Australia       |     7       |    233     |        2.6 G        |       11.0 G        |\n",
    "| China           |     3       |     57     |        1.1 G        |        4.9 G        |\n",
    "| Belize          |     1       |     15     |         38 M        |        180 M        |\n",
    "| Italy           |    10       |    246     |        4.0 G        |       16.0 G        |\n",
    "| Germany         |     2       |     63     |        894 M        |        3.6 G        |\n",
    "| France          |     3       |    117     |        3.1 G        |       13.0 G        |\n",
    "| United-Kingdom  |     5       |    125     |        2.7 G        |       11.0 G        |\n",
    "| Argentina       |     1       |     14     |        272 M        |        1.1 G        |\n",
    "| South-Africa    |     1       |     24     |        452 M        |        1.9 G        |\n",
    "| Denmark         |     1       |     27     |        505 M        |        2.2 G        |\n",
    "| Ireland         |     2       |     45     |        550 M        |        2.3 G        |\n",
    "| Switzerland     |     2       |     86     |        200 M        |        858 M        |\n",
    "| Turkey          |     1       |     25     |        275 M        |        1.2 G        |\n",
    "| Portugal        |     2       |     56     |        879 M        |        3.7 G        |\n",
    "| Mexico          |     1       |     16     |        279 M        |        1.1 G        |\n",
    "| Canada          |     7       |    191     |        1.4 G        |        6.0 G        |\n",
    "| Norway          |     1       |     26     |        156 M        |        663 M        |\n",
    "| Czech-Republic  |     1       |     25     |        317 M        |        1.3 G        |\n",
    "| Brazil          |     1       |     27     |        731 M        |        2.9 G        |\n",
    "| Chile           |     1       |      5     |         52 M        |        232 M        |\n",
    "| Singapore       |     1       |     16     |        102 M        |        516 M        |\n",
    "| Sweden          |     1       |     25     |        129 M        |        561 M        |\n",
    "| Taiwan          |     1       |     25     |        281 M        |        1.1 G        |\n",
    "| Japan           |     1       |     16     |        248 M        |        1.2 G        |\n",
    "| Austria         |     1       |     52     |        433 M        |        1.8 G        |\n"
   ]
  },
  {
   "cell_type": "markdown",
   "metadata": {},
   "source": [
    "Let's now put our function to use and get the data we need for our project."
   ]
  },
  {
   "cell_type": "code",
   "execution_count": 47,
   "metadata": {},
   "outputs": [
    {
     "name": "stdout",
     "output_type": "stream",
     "text": [
      "CPU times: user 1.82 s, sys: 1.58 s, total: 3.4 s\n",
      "Wall time: 2min 33s\n"
     ]
    }
   ],
   "source": [
    "%%time\n",
    "\n",
    "\n",
    "get_me_specific_data(urls=files_we_want, country=my_country, path_to_files=path, countries_unique=unique_countries)"
   ]
  },
  {
   "cell_type": "markdown",
   "metadata": {},
   "source": [
    "We can check the data we have gathered so far to see if we what we got back from Inside Airbnb. Since pandas has a nice compression parameter, we will not worry about decompressing our files with other tools and use pandas' in next few cells."
   ]
  },
  {
   "cell_type": "code",
   "execution_count": 48,
   "metadata": {},
   "outputs": [],
   "source": [
    "raw_files = check_or_add(path, my_country, 'raw_data') # let's add our new raw_data path to a variable\n",
    "file_num = 5 # pick a number for the file you want to show."
   ]
  },
  {
   "cell_type": "code",
   "execution_count": 49,
   "metadata": {},
   "outputs": [
    {
     "name": "stdout",
     "output_type": "stream",
     "text": [
      "<class 'pandas.core.frame.DataFrame'>\n",
      "RangeIndex: 14941 entries, 0 to 14940\n",
      "Columns: 106 entries, id to reviews_per_month\n",
      "dtypes: float64(22), int64(23), object(61)\n",
      "memory usage: 159.5 MB\n"
     ]
    }
   ],
   "source": [
    "df = pd.read_csv(os.path.join(raw_files, f'{my_country}_{file_num}.csv.gz'), compression='gzip', low_memory=False, encoding='utf-8')\n",
    "df.info(memory_usage='deep')"
   ]
  },
  {
   "cell_type": "code",
   "execution_count": 50,
   "metadata": {},
   "outputs": [
    {
     "data": {
      "text/html": [
       "<div>\n",
       "<style scoped>\n",
       "    .dataframe tbody tr th:only-of-type {\n",
       "        vertical-align: middle;\n",
       "    }\n",
       "\n",
       "    .dataframe tbody tr th {\n",
       "        vertical-align: top;\n",
       "    }\n",
       "\n",
       "    .dataframe thead th {\n",
       "        text-align: right;\n",
       "    }\n",
       "</style>\n",
       "<table border=\"1\" class=\"dataframe\">\n",
       "  <thead>\n",
       "    <tr style=\"text-align: right;\">\n",
       "      <th></th>\n",
       "      <th>id</th>\n",
       "      <th>listing_url</th>\n",
       "      <th>scrape_id</th>\n",
       "      <th>last_scraped</th>\n",
       "      <th>name</th>\n",
       "      <th>summary</th>\n",
       "      <th>space</th>\n",
       "      <th>description</th>\n",
       "      <th>experiences_offered</th>\n",
       "      <th>neighborhood_overview</th>\n",
       "      <th>notes</th>\n",
       "      <th>transit</th>\n",
       "      <th>access</th>\n",
       "      <th>interaction</th>\n",
       "      <th>house_rules</th>\n",
       "      <th>thumbnail_url</th>\n",
       "      <th>medium_url</th>\n",
       "      <th>picture_url</th>\n",
       "      <th>xl_picture_url</th>\n",
       "      <th>host_id</th>\n",
       "      <th>host_url</th>\n",
       "      <th>host_name</th>\n",
       "      <th>host_since</th>\n",
       "      <th>host_location</th>\n",
       "      <th>host_about</th>\n",
       "      <th>host_response_time</th>\n",
       "      <th>host_response_rate</th>\n",
       "      <th>host_acceptance_rate</th>\n",
       "      <th>host_is_superhost</th>\n",
       "      <th>host_thumbnail_url</th>\n",
       "      <th>host_picture_url</th>\n",
       "      <th>host_neighbourhood</th>\n",
       "      <th>host_listings_count</th>\n",
       "      <th>host_total_listings_count</th>\n",
       "      <th>host_verifications</th>\n",
       "      <th>host_has_profile_pic</th>\n",
       "      <th>host_identity_verified</th>\n",
       "      <th>street</th>\n",
       "      <th>neighbourhood</th>\n",
       "      <th>neighbourhood_cleansed</th>\n",
       "      <th>neighbourhood_group_cleansed</th>\n",
       "      <th>city</th>\n",
       "      <th>state</th>\n",
       "      <th>zipcode</th>\n",
       "      <th>market</th>\n",
       "      <th>smart_location</th>\n",
       "      <th>country_code</th>\n",
       "      <th>country</th>\n",
       "      <th>latitude</th>\n",
       "      <th>longitude</th>\n",
       "      <th>is_location_exact</th>\n",
       "      <th>property_type</th>\n",
       "      <th>room_type</th>\n",
       "      <th>accommodates</th>\n",
       "      <th>bathrooms</th>\n",
       "      <th>bedrooms</th>\n",
       "      <th>beds</th>\n",
       "      <th>bed_type</th>\n",
       "      <th>amenities</th>\n",
       "      <th>square_feet</th>\n",
       "      <th>price</th>\n",
       "      <th>weekly_price</th>\n",
       "      <th>monthly_price</th>\n",
       "      <th>security_deposit</th>\n",
       "      <th>cleaning_fee</th>\n",
       "      <th>guests_included</th>\n",
       "      <th>extra_people</th>\n",
       "      <th>minimum_nights</th>\n",
       "      <th>maximum_nights</th>\n",
       "      <th>minimum_minimum_nights</th>\n",
       "      <th>maximum_minimum_nights</th>\n",
       "      <th>minimum_maximum_nights</th>\n",
       "      <th>maximum_maximum_nights</th>\n",
       "      <th>minimum_nights_avg_ntm</th>\n",
       "      <th>maximum_nights_avg_ntm</th>\n",
       "      <th>calendar_updated</th>\n",
       "      <th>has_availability</th>\n",
       "      <th>availability_30</th>\n",
       "      <th>availability_60</th>\n",
       "      <th>availability_90</th>\n",
       "      <th>availability_365</th>\n",
       "      <th>calendar_last_scraped</th>\n",
       "      <th>number_of_reviews</th>\n",
       "      <th>number_of_reviews_ltm</th>\n",
       "      <th>first_review</th>\n",
       "      <th>last_review</th>\n",
       "      <th>review_scores_rating</th>\n",
       "      <th>review_scores_accuracy</th>\n",
       "      <th>review_scores_cleanliness</th>\n",
       "      <th>review_scores_checkin</th>\n",
       "      <th>review_scores_communication</th>\n",
       "      <th>review_scores_location</th>\n",
       "      <th>review_scores_value</th>\n",
       "      <th>requires_license</th>\n",
       "      <th>license</th>\n",
       "      <th>jurisdiction_names</th>\n",
       "      <th>instant_bookable</th>\n",
       "      <th>is_business_travel_ready</th>\n",
       "      <th>cancellation_policy</th>\n",
       "      <th>require_guest_profile_picture</th>\n",
       "      <th>require_guest_phone_verification</th>\n",
       "      <th>calculated_host_listings_count</th>\n",
       "      <th>calculated_host_listings_count_entire_homes</th>\n",
       "      <th>calculated_host_listings_count_private_rooms</th>\n",
       "      <th>calculated_host_listings_count_shared_rooms</th>\n",
       "      <th>reviews_per_month</th>\n",
       "    </tr>\n",
       "  </thead>\n",
       "  <tbody>\n",
       "    <tr>\n",
       "      <th>0</th>\n",
       "      <td>35303</td>\n",
       "      <td>https://www.airbnb.com/rooms/35303</td>\n",
       "      <td>20200128150029</td>\n",
       "      <td>2020-01-28</td>\n",
       "      <td>La Casa Gaienmae C Harajuku, Omotesando is nearby</td>\n",
       "      <td>This shared flat is locating at very close to ...</td>\n",
       "      <td>This apartment is 3 bedroom flat shared with t...</td>\n",
       "      <td>This shared flat is locating at very close to ...</td>\n",
       "      <td>none</td>\n",
       "      <td>10 min walking to Harajuku ~ Urahara ~ Omotesa...</td>\n",
       "      <td>Current tenants are living in this flat over 2...</td>\n",
       "      <td>5min to subway, 10min to JR stations, you can ...</td>\n",
       "      <td>Your private room, Kitchen, Bathroom, Toilet, ...</td>\n",
       "      <td>I provide common space cleaning twice a week. ...</td>\n",
       "      <td>If you would like to stay monthly, there is a ...</td>\n",
       "      <td>NaN</td>\n",
       "      <td>NaN</td>\n",
       "      <td>https://a0.muscache.com/im/pictures/67365319/c...</td>\n",
       "      <td>NaN</td>\n",
       "      <td>151977</td>\n",
       "      <td>https://www.airbnb.com/users/show/151977</td>\n",
       "      <td>Miyuki</td>\n",
       "      <td>2010-06-25</td>\n",
       "      <td>Shibuya, Tokyo, Japan</td>\n",
       "      <td>Hi I am Miyuki Kanda. I run a real estate &amp; pr...</td>\n",
       "      <td>NaN</td>\n",
       "      <td>NaN</td>\n",
       "      <td>NaN</td>\n",
       "      <td>f</td>\n",
       "      <td>https://a0.muscache.com/im/users/151977/profil...</td>\n",
       "      <td>https://a0.muscache.com/im/users/151977/profil...</td>\n",
       "      <td>Shibuya District</td>\n",
       "      <td>3</td>\n",
       "      <td>3</td>\n",
       "      <td>['email', 'phone', 'facebook', 'reviews', 'jum...</td>\n",
       "      <td>t</td>\n",
       "      <td>t</td>\n",
       "      <td>Shibuya, Tokyo, Japan</td>\n",
       "      <td>Shibuya District</td>\n",
       "      <td>Shibuya Ku</td>\n",
       "      <td>NaN</td>\n",
       "      <td>Shibuya</td>\n",
       "      <td>Tokyo</td>\n",
       "      <td>150-0001</td>\n",
       "      <td>Tokyo</td>\n",
       "      <td>Shibuya, Japan</td>\n",
       "      <td>JP</td>\n",
       "      <td>Japan</td>\n",
       "      <td>35.67152</td>\n",
       "      <td>139.71203</td>\n",
       "      <td>t</td>\n",
       "      <td>Apartment</td>\n",
       "      <td>Private room</td>\n",
       "      <td>1</td>\n",
       "      <td>1.0</td>\n",
       "      <td>1.0</td>\n",
       "      <td>1.0</td>\n",
       "      <td>Real Bed</td>\n",
       "      <td>{TV,Internet,Wifi,Kitchen,\"Paid parking off pr...</td>\n",
       "      <td>NaN</td>\n",
       "      <td>$4,250.00</td>\n",
       "      <td>NaN</td>\n",
       "      <td>$110,000.00</td>\n",
       "      <td>$30,000.00</td>\n",
       "      <td>$5,000.00</td>\n",
       "      <td>1</td>\n",
       "      <td>$0.00</td>\n",
       "      <td>28</td>\n",
       "      <td>1125</td>\n",
       "      <td>28</td>\n",
       "      <td>28</td>\n",
       "      <td>1125</td>\n",
       "      <td>1125</td>\n",
       "      <td>28.0</td>\n",
       "      <td>1125.0</td>\n",
       "      <td>15 months ago</td>\n",
       "      <td>t</td>\n",
       "      <td>29</td>\n",
       "      <td>59</td>\n",
       "      <td>89</td>\n",
       "      <td>90</td>\n",
       "      <td>2020-01-28</td>\n",
       "      <td>18</td>\n",
       "      <td>0</td>\n",
       "      <td>2011-12-28</td>\n",
       "      <td>2018-07-28</td>\n",
       "      <td>94.0</td>\n",
       "      <td>9.0</td>\n",
       "      <td>9.0</td>\n",
       "      <td>9.0</td>\n",
       "      <td>10.0</td>\n",
       "      <td>10.0</td>\n",
       "      <td>9.0</td>\n",
       "      <td>t</td>\n",
       "      <td>Other reasons | \\n弊社は不動産事業者であり賃貸住宅管理事業者でもあります。...</td>\n",
       "      <td>NaN</td>\n",
       "      <td>f</td>\n",
       "      <td>f</td>\n",
       "      <td>strict_14_with_grace_period</td>\n",
       "      <td>f</td>\n",
       "      <td>f</td>\n",
       "      <td>3</td>\n",
       "      <td>2</td>\n",
       "      <td>1</td>\n",
       "      <td>0</td>\n",
       "      <td>0.18</td>\n",
       "    </tr>\n",
       "    <tr>\n",
       "      <th>1</th>\n",
       "      <td>197677</td>\n",
       "      <td>https://www.airbnb.com/rooms/197677</td>\n",
       "      <td>20200128150029</td>\n",
       "      <td>2020-01-28</td>\n",
       "      <td>Oshiage Holiday Apartment</td>\n",
       "      <td>NaN</td>\n",
       "      <td>We are happy to welcome you to our apartment, ...</td>\n",
       "      <td>We are happy to welcome you to our apartment, ...</td>\n",
       "      <td>none</td>\n",
       "      <td>NaN</td>\n",
       "      <td>NaN</td>\n",
       "      <td>NaN</td>\n",
       "      <td>NaN</td>\n",
       "      <td>NaN</td>\n",
       "      <td>1. Smoking is NOT allowed inside the property....</td>\n",
       "      <td>NaN</td>\n",
       "      <td>NaN</td>\n",
       "      <td>https://a0.muscache.com/im/pictures/38437056/d...</td>\n",
       "      <td>NaN</td>\n",
       "      <td>964081</td>\n",
       "      <td>https://www.airbnb.com/users/show/964081</td>\n",
       "      <td>Yoshimi &amp; Marek</td>\n",
       "      <td>2011-08-13</td>\n",
       "      <td>Tokyo</td>\n",
       "      <td>Would love to travel all over the world and me...</td>\n",
       "      <td>within a day</td>\n",
       "      <td>100%</td>\n",
       "      <td>NaN</td>\n",
       "      <td>t</td>\n",
       "      <td>https://a0.muscache.com/im/users/964081/profil...</td>\n",
       "      <td>https://a0.muscache.com/im/users/964081/profil...</td>\n",
       "      <td>Sumida District</td>\n",
       "      <td>1</td>\n",
       "      <td>1</td>\n",
       "      <td>['email', 'phone', 'facebook', 'reviews', 'jum...</td>\n",
       "      <td>t</td>\n",
       "      <td>t</td>\n",
       "      <td>Sumida, Tokyo, Japan</td>\n",
       "      <td>Sumida District</td>\n",
       "      <td>Sumida Ku</td>\n",
       "      <td>NaN</td>\n",
       "      <td>Sumida</td>\n",
       "      <td>Tokyo</td>\n",
       "      <td>NaN</td>\n",
       "      <td>Tokyo</td>\n",
       "      <td>Sumida, Japan</td>\n",
       "      <td>JP</td>\n",
       "      <td>Japan</td>\n",
       "      <td>35.71721</td>\n",
       "      <td>139.82596</td>\n",
       "      <td>t</td>\n",
       "      <td>Apartment</td>\n",
       "      <td>Entire home/apt</td>\n",
       "      <td>4</td>\n",
       "      <td>1.0</td>\n",
       "      <td>1.0</td>\n",
       "      <td>2.0</td>\n",
       "      <td>Futon</td>\n",
       "      <td>{TV,Internet,Wifi,\"Air conditioning\",Kitchen,\"...</td>\n",
       "      <td>NaN</td>\n",
       "      <td>$11,006.00</td>\n",
       "      <td>$66,000.00</td>\n",
       "      <td>$240,000.00</td>\n",
       "      <td>$40,000.00</td>\n",
       "      <td>$5,000.00</td>\n",
       "      <td>1</td>\n",
       "      <td>$0.00</td>\n",
       "      <td>3</td>\n",
       "      <td>365</td>\n",
       "      <td>3</td>\n",
       "      <td>3</td>\n",
       "      <td>365</td>\n",
       "      <td>365</td>\n",
       "      <td>3.0</td>\n",
       "      <td>365.0</td>\n",
       "      <td>3 months ago</td>\n",
       "      <td>t</td>\n",
       "      <td>11</td>\n",
       "      <td>14</td>\n",
       "      <td>18</td>\n",
       "      <td>159</td>\n",
       "      <td>2020-01-28</td>\n",
       "      <td>163</td>\n",
       "      <td>11</td>\n",
       "      <td>2011-09-21</td>\n",
       "      <td>2019-12-03</td>\n",
       "      <td>95.0</td>\n",
       "      <td>10.0</td>\n",
       "      <td>10.0</td>\n",
       "      <td>10.0</td>\n",
       "      <td>10.0</td>\n",
       "      <td>9.0</td>\n",
       "      <td>10.0</td>\n",
       "      <td>t</td>\n",
       "      <td>M130003350</td>\n",
       "      <td>NaN</td>\n",
       "      <td>f</td>\n",
       "      <td>f</td>\n",
       "      <td>moderate</td>\n",
       "      <td>f</td>\n",
       "      <td>f</td>\n",
       "      <td>1</td>\n",
       "      <td>1</td>\n",
       "      <td>0</td>\n",
       "      <td>0</td>\n",
       "      <td>1.60</td>\n",
       "    </tr>\n",
       "    <tr>\n",
       "      <th>2</th>\n",
       "      <td>289597</td>\n",
       "      <td>https://www.airbnb.com/rooms/289597</td>\n",
       "      <td>20200128150029</td>\n",
       "      <td>2020-01-29</td>\n",
       "      <td>Private apt in central Tokyo #203</td>\n",
       "      <td>NaN</td>\n",
       "      <td>::::::::::::::::::::::::::::::::::::::::::::::...</td>\n",
       "      <td>::::::::::::::::::::::::::::::::::::::::::::::...</td>\n",
       "      <td>none</td>\n",
       "      <td>NaN</td>\n",
       "      <td>NaN</td>\n",
       "      <td>NaN</td>\n",
       "      <td>NaN</td>\n",
       "      <td>I can not see you in person as I don't live in...</td>\n",
       "      <td>No smoking inside. No Parties or loud noises. ...</td>\n",
       "      <td>NaN</td>\n",
       "      <td>NaN</td>\n",
       "      <td>https://a0.muscache.com/im/pictures/6454753/a8...</td>\n",
       "      <td>NaN</td>\n",
       "      <td>341577</td>\n",
       "      <td>https://www.airbnb.com/users/show/341577</td>\n",
       "      <td>Hide&amp;Kei</td>\n",
       "      <td>2011-01-10</td>\n",
       "      <td>Tokyo, Japan</td>\n",
       "      <td>We love travelling all over the world.\\r\\nWe a...</td>\n",
       "      <td>within an hour</td>\n",
       "      <td>100%</td>\n",
       "      <td>NaN</td>\n",
       "      <td>f</td>\n",
       "      <td>https://a0.muscache.com/im/users/341577/profil...</td>\n",
       "      <td>https://a0.muscache.com/im/users/341577/profil...</td>\n",
       "      <td>Nerima District</td>\n",
       "      <td>2</td>\n",
       "      <td>2</td>\n",
       "      <td>['email', 'phone', 'reviews', 'jumio', 'govern...</td>\n",
       "      <td>t</td>\n",
       "      <td>t</td>\n",
       "      <td>Nerima, Tokyo, Japan</td>\n",
       "      <td>Nerima District</td>\n",
       "      <td>Nerima Ku</td>\n",
       "      <td>NaN</td>\n",
       "      <td>Nerima</td>\n",
       "      <td>Tokyo</td>\n",
       "      <td>NaN</td>\n",
       "      <td>Tokyo</td>\n",
       "      <td>Nerima, Japan</td>\n",
       "      <td>JP</td>\n",
       "      <td>Japan</td>\n",
       "      <td>35.74267</td>\n",
       "      <td>139.65810</td>\n",
       "      <td>t</td>\n",
       "      <td>Apartment</td>\n",
       "      <td>Entire home/apt</td>\n",
       "      <td>2</td>\n",
       "      <td>1.0</td>\n",
       "      <td>1.0</td>\n",
       "      <td>1.0</td>\n",
       "      <td>Real Bed</td>\n",
       "      <td>{TV,Wifi,\"Air conditioning\",Kitchen,\"Hot tub\",...</td>\n",
       "      <td>220.0</td>\n",
       "      <td>$4,252.00</td>\n",
       "      <td>$29,438.00</td>\n",
       "      <td>$152,642.00</td>\n",
       "      <td>$32,709.00</td>\n",
       "      <td>$5,452.00</td>\n",
       "      <td>1</td>\n",
       "      <td>$1,090.00</td>\n",
       "      <td>30</td>\n",
       "      <td>180</td>\n",
       "      <td>30</td>\n",
       "      <td>30</td>\n",
       "      <td>180</td>\n",
       "      <td>180</td>\n",
       "      <td>30.0</td>\n",
       "      <td>180.0</td>\n",
       "      <td>8 months ago</td>\n",
       "      <td>t</td>\n",
       "      <td>11</td>\n",
       "      <td>11</td>\n",
       "      <td>20</td>\n",
       "      <td>115</td>\n",
       "      <td>2020-01-29</td>\n",
       "      <td>112</td>\n",
       "      <td>7</td>\n",
       "      <td>2012-06-15</td>\n",
       "      <td>2019-12-01</td>\n",
       "      <td>95.0</td>\n",
       "      <td>9.0</td>\n",
       "      <td>10.0</td>\n",
       "      <td>10.0</td>\n",
       "      <td>9.0</td>\n",
       "      <td>9.0</td>\n",
       "      <td>9.0</td>\n",
       "      <td>t</td>\n",
       "      <td>Other reasons | 1か月以上の賃貸借契約のみ対応とする。ゲストには賃貸契約の署...</td>\n",
       "      <td>NaN</td>\n",
       "      <td>t</td>\n",
       "      <td>f</td>\n",
       "      <td>strict_14_with_grace_period</td>\n",
       "      <td>f</td>\n",
       "      <td>f</td>\n",
       "      <td>2</td>\n",
       "      <td>2</td>\n",
       "      <td>0</td>\n",
       "      <td>0</td>\n",
       "      <td>1.21</td>\n",
       "    </tr>\n",
       "    <tr>\n",
       "      <th>3</th>\n",
       "      <td>370759</td>\n",
       "      <td>https://www.airbnb.com/rooms/370759</td>\n",
       "      <td>20200128150029</td>\n",
       "      <td>2020-01-29</td>\n",
       "      <td>Cozy flat #203, local area YET 10 mins to shib...</td>\n",
       "      <td>So close to busy centers, yet so peaceful! Jus...</td>\n",
       "      <td>Cozy and Relaxing, at home feeling in a reside...</td>\n",
       "      <td>So close to busy centers, yet so peaceful! Jus...</td>\n",
       "      <td>none</td>\n",
       "      <td>Peaceful and residential area just 10 mins awa...</td>\n",
       "      <td>January - February - July - August: During tho...</td>\n",
       "      <td>3 mins away to the station. Nice walks all aro...</td>\n",
       "      <td>It is your own private flat during your stay i...</td>\n",
       "      <td>We are very near if needed let us know. Will b...</td>\n",
       "      <td>Please check the following: -Thank you to put ...</td>\n",
       "      <td>NaN</td>\n",
       "      <td>NaN</td>\n",
       "      <td>https://a0.muscache.com/im/pictures/34594282-f...</td>\n",
       "      <td>NaN</td>\n",
       "      <td>1573631</td>\n",
       "      <td>https://www.airbnb.com/users/show/1573631</td>\n",
       "      <td>Gilles,Mayumi,Taiki</td>\n",
       "      <td>2012-01-06</td>\n",
       "      <td>Imari, Saga, Japan</td>\n",
       "      <td>We are a French-Japanese couple working betwee...</td>\n",
       "      <td>within an hour</td>\n",
       "      <td>100%</td>\n",
       "      <td>NaN</td>\n",
       "      <td>t</td>\n",
       "      <td>https://a0.muscache.com/im/pictures/user/a419d...</td>\n",
       "      <td>https://a0.muscache.com/im/pictures/user/a419d...</td>\n",
       "      <td>Setagaya District</td>\n",
       "      <td>3</td>\n",
       "      <td>3</td>\n",
       "      <td>['email', 'phone', 'facebook', 'reviews', 'jum...</td>\n",
       "      <td>t</td>\n",
       "      <td>t</td>\n",
       "      <td>Tokyo, Tokyo, Japan</td>\n",
       "      <td>Setagaya District</td>\n",
       "      <td>Setagaya Ku</td>\n",
       "      <td>NaN</td>\n",
       "      <td>Tokyo</td>\n",
       "      <td>Tokyo</td>\n",
       "      <td>156-0042</td>\n",
       "      <td>Tokyo</td>\n",
       "      <td>Tokyo, Japan</td>\n",
       "      <td>JP</td>\n",
       "      <td>Japan</td>\n",
       "      <td>35.66344</td>\n",
       "      <td>139.65593</td>\n",
       "      <td>t</td>\n",
       "      <td>Apartment</td>\n",
       "      <td>Entire home/apt</td>\n",
       "      <td>2</td>\n",
       "      <td>1.0</td>\n",
       "      <td>0.0</td>\n",
       "      <td>1.0</td>\n",
       "      <td>Real Bed</td>\n",
       "      <td>{TV,Internet,Wifi,\"Air conditioning\",Kitchen,\"...</td>\n",
       "      <td>270.0</td>\n",
       "      <td>$6,542.00</td>\n",
       "      <td>$56,009.00</td>\n",
       "      <td>$198,032.00</td>\n",
       "      <td>$20,000.00</td>\n",
       "      <td>$6,000.00</td>\n",
       "      <td>1</td>\n",
       "      <td>$1,000.00</td>\n",
       "      <td>29</td>\n",
       "      <td>1125</td>\n",
       "      <td>1</td>\n",
       "      <td>29</td>\n",
       "      <td>1125</td>\n",
       "      <td>1125</td>\n",
       "      <td>28.1</td>\n",
       "      <td>1125.0</td>\n",
       "      <td>4 days ago</td>\n",
       "      <td>t</td>\n",
       "      <td>11</td>\n",
       "      <td>11</td>\n",
       "      <td>20</td>\n",
       "      <td>265</td>\n",
       "      <td>2020-01-29</td>\n",
       "      <td>102</td>\n",
       "      <td>4</td>\n",
       "      <td>2014-03-25</td>\n",
       "      <td>2019-11-20</td>\n",
       "      <td>95.0</td>\n",
       "      <td>10.0</td>\n",
       "      <td>10.0</td>\n",
       "      <td>10.0</td>\n",
       "      <td>10.0</td>\n",
       "      <td>10.0</td>\n",
       "      <td>10.0</td>\n",
       "      <td>t</td>\n",
       "      <td>Other reasons | We called Setagaya ku hokenjo ...</td>\n",
       "      <td>NaN</td>\n",
       "      <td>t</td>\n",
       "      <td>f</td>\n",
       "      <td>strict_14_with_grace_period</td>\n",
       "      <td>f</td>\n",
       "      <td>f</td>\n",
       "      <td>3</td>\n",
       "      <td>3</td>\n",
       "      <td>0</td>\n",
       "      <td>0</td>\n",
       "      <td>1.43</td>\n",
       "    </tr>\n",
       "    <tr>\n",
       "      <th>4</th>\n",
       "      <td>700253</td>\n",
       "      <td>https://www.airbnb.com/rooms/700253</td>\n",
       "      <td>20200128150029</td>\n",
       "      <td>2020-01-29</td>\n",
       "      <td>Private apt in central Tokyo #201</td>\n",
       "      <td>NaN</td>\n",
       "      <td>::::::::::::::::::::::::::::::::::::::::::::::...</td>\n",
       "      <td>::::::::::::::::::::::::::::::::::::::::::::::...</td>\n",
       "      <td>none</td>\n",
       "      <td>NaN</td>\n",
       "      <td>NaN</td>\n",
       "      <td>NaN</td>\n",
       "      <td>NaN</td>\n",
       "      <td>I can not see you in person as I don't live in...</td>\n",
       "      <td>No smoking inside. No Parties or loud noises. ...</td>\n",
       "      <td>NaN</td>\n",
       "      <td>NaN</td>\n",
       "      <td>https://a0.muscache.com/im/pictures/9888693/af...</td>\n",
       "      <td>NaN</td>\n",
       "      <td>341577</td>\n",
       "      <td>https://www.airbnb.com/users/show/341577</td>\n",
       "      <td>Hide&amp;Kei</td>\n",
       "      <td>2011-01-10</td>\n",
       "      <td>Tokyo, Japan</td>\n",
       "      <td>We love travelling all over the world.\\r\\nWe a...</td>\n",
       "      <td>within an hour</td>\n",
       "      <td>100%</td>\n",
       "      <td>NaN</td>\n",
       "      <td>f</td>\n",
       "      <td>https://a0.muscache.com/im/users/341577/profil...</td>\n",
       "      <td>https://a0.muscache.com/im/users/341577/profil...</td>\n",
       "      <td>Nerima District</td>\n",
       "      <td>2</td>\n",
       "      <td>2</td>\n",
       "      <td>['email', 'phone', 'reviews', 'jumio', 'govern...</td>\n",
       "      <td>t</td>\n",
       "      <td>t</td>\n",
       "      <td>Nerima, Tokyo, Japan</td>\n",
       "      <td>Nerima District</td>\n",
       "      <td>Nerima Ku</td>\n",
       "      <td>NaN</td>\n",
       "      <td>Nerima</td>\n",
       "      <td>Tokyo</td>\n",
       "      <td>NaN</td>\n",
       "      <td>Tokyo</td>\n",
       "      <td>Nerima, Japan</td>\n",
       "      <td>JP</td>\n",
       "      <td>Japan</td>\n",
       "      <td>35.74264</td>\n",
       "      <td>139.65832</td>\n",
       "      <td>t</td>\n",
       "      <td>Apartment</td>\n",
       "      <td>Entire home/apt</td>\n",
       "      <td>2</td>\n",
       "      <td>1.0</td>\n",
       "      <td>1.0</td>\n",
       "      <td>1.0</td>\n",
       "      <td>Real Bed</td>\n",
       "      <td>{TV,Internet,Wifi,\"Air conditioning\",Kitchen,\"...</td>\n",
       "      <td>NaN</td>\n",
       "      <td>$4,034.00</td>\n",
       "      <td>$29,438.00</td>\n",
       "      <td>$152,642.00</td>\n",
       "      <td>$32,709.00</td>\n",
       "      <td>$5,452.00</td>\n",
       "      <td>1</td>\n",
       "      <td>$1,090.00</td>\n",
       "      <td>30</td>\n",
       "      <td>180</td>\n",
       "      <td>30</td>\n",
       "      <td>30</td>\n",
       "      <td>180</td>\n",
       "      <td>180</td>\n",
       "      <td>30.0</td>\n",
       "      <td>180.0</td>\n",
       "      <td>8 months ago</td>\n",
       "      <td>t</td>\n",
       "      <td>27</td>\n",
       "      <td>27</td>\n",
       "      <td>34</td>\n",
       "      <td>64</td>\n",
       "      <td>2020-01-29</td>\n",
       "      <td>103</td>\n",
       "      <td>4</td>\n",
       "      <td>2012-10-17</td>\n",
       "      <td>2019-10-04</td>\n",
       "      <td>96.0</td>\n",
       "      <td>10.0</td>\n",
       "      <td>10.0</td>\n",
       "      <td>10.0</td>\n",
       "      <td>10.0</td>\n",
       "      <td>9.0</td>\n",
       "      <td>10.0</td>\n",
       "      <td>t</td>\n",
       "      <td>Other reasons | 1か月以上の賃貸借契約のみ対応とする。ゲストには賃貸契約の署...</td>\n",
       "      <td>NaN</td>\n",
       "      <td>f</td>\n",
       "      <td>f</td>\n",
       "      <td>strict_14_with_grace_period</td>\n",
       "      <td>f</td>\n",
       "      <td>f</td>\n",
       "      <td>2</td>\n",
       "      <td>2</td>\n",
       "      <td>0</td>\n",
       "      <td>0</td>\n",
       "      <td>1.16</td>\n",
       "    </tr>\n",
       "  </tbody>\n",
       "</table>\n",
       "</div>"
      ],
      "text/plain": [
       "       id                          listing_url       scrape_id last_scraped  \\\n",
       "0   35303   https://www.airbnb.com/rooms/35303  20200128150029   2020-01-28   \n",
       "1  197677  https://www.airbnb.com/rooms/197677  20200128150029   2020-01-28   \n",
       "2  289597  https://www.airbnb.com/rooms/289597  20200128150029   2020-01-29   \n",
       "3  370759  https://www.airbnb.com/rooms/370759  20200128150029   2020-01-29   \n",
       "4  700253  https://www.airbnb.com/rooms/700253  20200128150029   2020-01-29   \n",
       "\n",
       "                                                name  \\\n",
       "0  La Casa Gaienmae C Harajuku, Omotesando is nearby   \n",
       "1                          Oshiage Holiday Apartment   \n",
       "2                  Private apt in central Tokyo #203   \n",
       "3  Cozy flat #203, local area YET 10 mins to shib...   \n",
       "4                  Private apt in central Tokyo #201   \n",
       "\n",
       "                                             summary  \\\n",
       "0  This shared flat is locating at very close to ...   \n",
       "1                                                NaN   \n",
       "2                                                NaN   \n",
       "3  So close to busy centers, yet so peaceful! Jus...   \n",
       "4                                                NaN   \n",
       "\n",
       "                                               space  \\\n",
       "0  This apartment is 3 bedroom flat shared with t...   \n",
       "1  We are happy to welcome you to our apartment, ...   \n",
       "2  ::::::::::::::::::::::::::::::::::::::::::::::...   \n",
       "3  Cozy and Relaxing, at home feeling in a reside...   \n",
       "4  ::::::::::::::::::::::::::::::::::::::::::::::...   \n",
       "\n",
       "                                         description experiences_offered  \\\n",
       "0  This shared flat is locating at very close to ...                none   \n",
       "1  We are happy to welcome you to our apartment, ...                none   \n",
       "2  ::::::::::::::::::::::::::::::::::::::::::::::...                none   \n",
       "3  So close to busy centers, yet so peaceful! Jus...                none   \n",
       "4  ::::::::::::::::::::::::::::::::::::::::::::::...                none   \n",
       "\n",
       "                               neighborhood_overview  \\\n",
       "0  10 min walking to Harajuku ~ Urahara ~ Omotesa...   \n",
       "1                                                NaN   \n",
       "2                                                NaN   \n",
       "3  Peaceful and residential area just 10 mins awa...   \n",
       "4                                                NaN   \n",
       "\n",
       "                                               notes  \\\n",
       "0  Current tenants are living in this flat over 2...   \n",
       "1                                                NaN   \n",
       "2                                                NaN   \n",
       "3  January - February - July - August: During tho...   \n",
       "4                                                NaN   \n",
       "\n",
       "                                             transit  \\\n",
       "0  5min to subway, 10min to JR stations, you can ...   \n",
       "1                                                NaN   \n",
       "2                                                NaN   \n",
       "3  3 mins away to the station. Nice walks all aro...   \n",
       "4                                                NaN   \n",
       "\n",
       "                                              access  \\\n",
       "0  Your private room, Kitchen, Bathroom, Toilet, ...   \n",
       "1                                                NaN   \n",
       "2                                                NaN   \n",
       "3  It is your own private flat during your stay i...   \n",
       "4                                                NaN   \n",
       "\n",
       "                                         interaction  \\\n",
       "0  I provide common space cleaning twice a week. ...   \n",
       "1                                                NaN   \n",
       "2  I can not see you in person as I don't live in...   \n",
       "3  We are very near if needed let us know. Will b...   \n",
       "4  I can not see you in person as I don't live in...   \n",
       "\n",
       "                                         house_rules  thumbnail_url  \\\n",
       "0  If you would like to stay monthly, there is a ...            NaN   \n",
       "1  1. Smoking is NOT allowed inside the property....            NaN   \n",
       "2  No smoking inside. No Parties or loud noises. ...            NaN   \n",
       "3  Please check the following: -Thank you to put ...            NaN   \n",
       "4  No smoking inside. No Parties or loud noises. ...            NaN   \n",
       "\n",
       "   medium_url                                        picture_url  \\\n",
       "0         NaN  https://a0.muscache.com/im/pictures/67365319/c...   \n",
       "1         NaN  https://a0.muscache.com/im/pictures/38437056/d...   \n",
       "2         NaN  https://a0.muscache.com/im/pictures/6454753/a8...   \n",
       "3         NaN  https://a0.muscache.com/im/pictures/34594282-f...   \n",
       "4         NaN  https://a0.muscache.com/im/pictures/9888693/af...   \n",
       "\n",
       "   xl_picture_url  host_id                                   host_url  \\\n",
       "0             NaN   151977   https://www.airbnb.com/users/show/151977   \n",
       "1             NaN   964081   https://www.airbnb.com/users/show/964081   \n",
       "2             NaN   341577   https://www.airbnb.com/users/show/341577   \n",
       "3             NaN  1573631  https://www.airbnb.com/users/show/1573631   \n",
       "4             NaN   341577   https://www.airbnb.com/users/show/341577   \n",
       "\n",
       "             host_name  host_since          host_location  \\\n",
       "0               Miyuki  2010-06-25  Shibuya, Tokyo, Japan   \n",
       "1      Yoshimi & Marek  2011-08-13                  Tokyo   \n",
       "2             Hide&Kei  2011-01-10           Tokyo, Japan   \n",
       "3  Gilles,Mayumi,Taiki  2012-01-06     Imari, Saga, Japan   \n",
       "4             Hide&Kei  2011-01-10           Tokyo, Japan   \n",
       "\n",
       "                                          host_about host_response_time  \\\n",
       "0  Hi I am Miyuki Kanda. I run a real estate & pr...                NaN   \n",
       "1  Would love to travel all over the world and me...       within a day   \n",
       "2  We love travelling all over the world.\\r\\nWe a...     within an hour   \n",
       "3  We are a French-Japanese couple working betwee...     within an hour   \n",
       "4  We love travelling all over the world.\\r\\nWe a...     within an hour   \n",
       "\n",
       "  host_response_rate  host_acceptance_rate host_is_superhost  \\\n",
       "0                NaN                   NaN                 f   \n",
       "1               100%                   NaN                 t   \n",
       "2               100%                   NaN                 f   \n",
       "3               100%                   NaN                 t   \n",
       "4               100%                   NaN                 f   \n",
       "\n",
       "                                  host_thumbnail_url  \\\n",
       "0  https://a0.muscache.com/im/users/151977/profil...   \n",
       "1  https://a0.muscache.com/im/users/964081/profil...   \n",
       "2  https://a0.muscache.com/im/users/341577/profil...   \n",
       "3  https://a0.muscache.com/im/pictures/user/a419d...   \n",
       "4  https://a0.muscache.com/im/users/341577/profil...   \n",
       "\n",
       "                                    host_picture_url host_neighbourhood  \\\n",
       "0  https://a0.muscache.com/im/users/151977/profil...   Shibuya District   \n",
       "1  https://a0.muscache.com/im/users/964081/profil...    Sumida District   \n",
       "2  https://a0.muscache.com/im/users/341577/profil...    Nerima District   \n",
       "3  https://a0.muscache.com/im/pictures/user/a419d...  Setagaya District   \n",
       "4  https://a0.muscache.com/im/users/341577/profil...    Nerima District   \n",
       "\n",
       "   host_listings_count  host_total_listings_count  \\\n",
       "0                    3                          3   \n",
       "1                    1                          1   \n",
       "2                    2                          2   \n",
       "3                    3                          3   \n",
       "4                    2                          2   \n",
       "\n",
       "                                  host_verifications host_has_profile_pic  \\\n",
       "0  ['email', 'phone', 'facebook', 'reviews', 'jum...                    t   \n",
       "1  ['email', 'phone', 'facebook', 'reviews', 'jum...                    t   \n",
       "2  ['email', 'phone', 'reviews', 'jumio', 'govern...                    t   \n",
       "3  ['email', 'phone', 'facebook', 'reviews', 'jum...                    t   \n",
       "4  ['email', 'phone', 'reviews', 'jumio', 'govern...                    t   \n",
       "\n",
       "  host_identity_verified                 street      neighbourhood  \\\n",
       "0                      t  Shibuya, Tokyo, Japan   Shibuya District   \n",
       "1                      t   Sumida, Tokyo, Japan    Sumida District   \n",
       "2                      t   Nerima, Tokyo, Japan    Nerima District   \n",
       "3                      t    Tokyo, Tokyo, Japan  Setagaya District   \n",
       "4                      t   Nerima, Tokyo, Japan    Nerima District   \n",
       "\n",
       "  neighbourhood_cleansed  neighbourhood_group_cleansed     city  state  \\\n",
       "0             Shibuya Ku                           NaN  Shibuya  Tokyo   \n",
       "1              Sumida Ku                           NaN   Sumida  Tokyo   \n",
       "2              Nerima Ku                           NaN   Nerima  Tokyo   \n",
       "3            Setagaya Ku                           NaN    Tokyo  Tokyo   \n",
       "4              Nerima Ku                           NaN   Nerima  Tokyo   \n",
       "\n",
       "    zipcode market  smart_location country_code country  latitude  longitude  \\\n",
       "0  150-0001  Tokyo  Shibuya, Japan           JP   Japan  35.67152  139.71203   \n",
       "1       NaN  Tokyo   Sumida, Japan           JP   Japan  35.71721  139.82596   \n",
       "2       NaN  Tokyo   Nerima, Japan           JP   Japan  35.74267  139.65810   \n",
       "3  156-0042  Tokyo    Tokyo, Japan           JP   Japan  35.66344  139.65593   \n",
       "4       NaN  Tokyo   Nerima, Japan           JP   Japan  35.74264  139.65832   \n",
       "\n",
       "  is_location_exact property_type        room_type  accommodates  bathrooms  \\\n",
       "0                 t     Apartment     Private room             1        1.0   \n",
       "1                 t     Apartment  Entire home/apt             4        1.0   \n",
       "2                 t     Apartment  Entire home/apt             2        1.0   \n",
       "3                 t     Apartment  Entire home/apt             2        1.0   \n",
       "4                 t     Apartment  Entire home/apt             2        1.0   \n",
       "\n",
       "   bedrooms  beds  bed_type  \\\n",
       "0       1.0   1.0  Real Bed   \n",
       "1       1.0   2.0     Futon   \n",
       "2       1.0   1.0  Real Bed   \n",
       "3       0.0   1.0  Real Bed   \n",
       "4       1.0   1.0  Real Bed   \n",
       "\n",
       "                                           amenities  square_feet       price  \\\n",
       "0  {TV,Internet,Wifi,Kitchen,\"Paid parking off pr...          NaN   $4,250.00   \n",
       "1  {TV,Internet,Wifi,\"Air conditioning\",Kitchen,\"...          NaN  $11,006.00   \n",
       "2  {TV,Wifi,\"Air conditioning\",Kitchen,\"Hot tub\",...        220.0   $4,252.00   \n",
       "3  {TV,Internet,Wifi,\"Air conditioning\",Kitchen,\"...        270.0   $6,542.00   \n",
       "4  {TV,Internet,Wifi,\"Air conditioning\",Kitchen,\"...          NaN   $4,034.00   \n",
       "\n",
       "  weekly_price monthly_price security_deposit cleaning_fee  guests_included  \\\n",
       "0          NaN   $110,000.00       $30,000.00    $5,000.00                1   \n",
       "1   $66,000.00   $240,000.00       $40,000.00    $5,000.00                1   \n",
       "2   $29,438.00   $152,642.00       $32,709.00    $5,452.00                1   \n",
       "3   $56,009.00   $198,032.00       $20,000.00    $6,000.00                1   \n",
       "4   $29,438.00   $152,642.00       $32,709.00    $5,452.00                1   \n",
       "\n",
       "  extra_people  minimum_nights  maximum_nights  minimum_minimum_nights  \\\n",
       "0        $0.00              28            1125                      28   \n",
       "1        $0.00               3             365                       3   \n",
       "2    $1,090.00              30             180                      30   \n",
       "3    $1,000.00              29            1125                       1   \n",
       "4    $1,090.00              30             180                      30   \n",
       "\n",
       "   maximum_minimum_nights  minimum_maximum_nights  maximum_maximum_nights  \\\n",
       "0                      28                    1125                    1125   \n",
       "1                       3                     365                     365   \n",
       "2                      30                     180                     180   \n",
       "3                      29                    1125                    1125   \n",
       "4                      30                     180                     180   \n",
       "\n",
       "   minimum_nights_avg_ntm  maximum_nights_avg_ntm calendar_updated  \\\n",
       "0                    28.0                  1125.0    15 months ago   \n",
       "1                     3.0                   365.0     3 months ago   \n",
       "2                    30.0                   180.0     8 months ago   \n",
       "3                    28.1                  1125.0       4 days ago   \n",
       "4                    30.0                   180.0     8 months ago   \n",
       "\n",
       "  has_availability  availability_30  availability_60  availability_90  \\\n",
       "0                t               29               59               89   \n",
       "1                t               11               14               18   \n",
       "2                t               11               11               20   \n",
       "3                t               11               11               20   \n",
       "4                t               27               27               34   \n",
       "\n",
       "   availability_365 calendar_last_scraped  number_of_reviews  \\\n",
       "0                90            2020-01-28                 18   \n",
       "1               159            2020-01-28                163   \n",
       "2               115            2020-01-29                112   \n",
       "3               265            2020-01-29                102   \n",
       "4                64            2020-01-29                103   \n",
       "\n",
       "   number_of_reviews_ltm first_review last_review  review_scores_rating  \\\n",
       "0                      0   2011-12-28  2018-07-28                  94.0   \n",
       "1                     11   2011-09-21  2019-12-03                  95.0   \n",
       "2                      7   2012-06-15  2019-12-01                  95.0   \n",
       "3                      4   2014-03-25  2019-11-20                  95.0   \n",
       "4                      4   2012-10-17  2019-10-04                  96.0   \n",
       "\n",
       "   review_scores_accuracy  review_scores_cleanliness  review_scores_checkin  \\\n",
       "0                     9.0                        9.0                    9.0   \n",
       "1                    10.0                       10.0                   10.0   \n",
       "2                     9.0                       10.0                   10.0   \n",
       "3                    10.0                       10.0                   10.0   \n",
       "4                    10.0                       10.0                   10.0   \n",
       "\n",
       "   review_scores_communication  review_scores_location  review_scores_value  \\\n",
       "0                         10.0                    10.0                  9.0   \n",
       "1                         10.0                     9.0                 10.0   \n",
       "2                          9.0                     9.0                  9.0   \n",
       "3                         10.0                    10.0                 10.0   \n",
       "4                         10.0                     9.0                 10.0   \n",
       "\n",
       "  requires_license                                            license  \\\n",
       "0                t  Other reasons | \\n弊社は不動産事業者であり賃貸住宅管理事業者でもあります。...   \n",
       "1                t                                         M130003350   \n",
       "2                t  Other reasons | 1か月以上の賃貸借契約のみ対応とする。ゲストには賃貸契約の署...   \n",
       "3                t  Other reasons | We called Setagaya ku hokenjo ...   \n",
       "4                t  Other reasons | 1か月以上の賃貸借契約のみ対応とする。ゲストには賃貸契約の署...   \n",
       "\n",
       "   jurisdiction_names instant_bookable is_business_travel_ready  \\\n",
       "0                 NaN                f                        f   \n",
       "1                 NaN                f                        f   \n",
       "2                 NaN                t                        f   \n",
       "3                 NaN                t                        f   \n",
       "4                 NaN                f                        f   \n",
       "\n",
       "           cancellation_policy require_guest_profile_picture  \\\n",
       "0  strict_14_with_grace_period                             f   \n",
       "1                     moderate                             f   \n",
       "2  strict_14_with_grace_period                             f   \n",
       "3  strict_14_with_grace_period                             f   \n",
       "4  strict_14_with_grace_period                             f   \n",
       "\n",
       "  require_guest_phone_verification  calculated_host_listings_count  \\\n",
       "0                                f                               3   \n",
       "1                                f                               1   \n",
       "2                                f                               2   \n",
       "3                                f                               3   \n",
       "4                                f                               2   \n",
       "\n",
       "   calculated_host_listings_count_entire_homes  \\\n",
       "0                                            2   \n",
       "1                                            1   \n",
       "2                                            2   \n",
       "3                                            3   \n",
       "4                                            2   \n",
       "\n",
       "   calculated_host_listings_count_private_rooms  \\\n",
       "0                                             1   \n",
       "1                                             0   \n",
       "2                                             0   \n",
       "3                                             0   \n",
       "4                                             0   \n",
       "\n",
       "   calculated_host_listings_count_shared_rooms  reviews_per_month  \n",
       "0                                            0               0.18  \n",
       "1                                            0               1.60  \n",
       "2                                            0               1.21  \n",
       "3                                            0               1.43  \n",
       "4                                            0               1.16  "
      ]
     },
     "execution_count": 50,
     "metadata": {},
     "output_type": "execute_result"
    }
   ],
   "source": [
    "df.head()"
   ]
  },
  {
   "cell_type": "markdown",
   "metadata": {},
   "source": [
    "Let's have a quick look at how many files we downloaded."
   ]
  },
  {
   "cell_type": "code",
   "execution_count": 51,
   "metadata": {},
   "outputs": [
    {
     "name": "stdout",
     "output_type": "stream",
     "text": [
      "Amount of files we downloaded --> 16\n"
     ]
    }
   ],
   "source": [
    "print(f\"Amount of files we downloaded --> {len(os.listdir(raw_files))}\")"
   ]
  },
  {
   "cell_type": "markdown",
   "metadata": {},
   "source": []
  },
  {
   "cell_type": "code",
   "execution_count": 52,
   "metadata": {},
   "outputs": [
    {
     "data": {
      "text/plain": [
       "['data/japan/raw_data/japan_14.csv.gz',\n",
       " 'data/japan/raw_data/japan_7.csv.gz',\n",
       " 'data/japan/raw_data/japan_5.csv.gz',\n",
       " 'data/japan/raw_data/japan_9.csv.gz',\n",
       " 'data/japan/raw_data/japan_1.csv.gz']"
      ]
     },
     "execution_count": 52,
     "metadata": {},
     "output_type": "execute_result"
    }
   ],
   "source": [
    "files = glob(os.path.join(raw_files, f'{my_country}*.csv.gz'))\n",
    "files[:5]"
   ]
  },
  {
   "cell_type": "code",
   "execution_count": 62,
   "metadata": {},
   "outputs": [],
   "source": [
    "@dask.delayed\n",
    "def get_csv_files(data, path_out, new_dir, country, nums):\n",
    "    \n",
    "    df = pd.read_csv(data, compression='gzip', low_memory=False)\n",
    "    \n",
    "    df.to_csv(os.path.join(check_or_add(path_out, country, new_dir), f'{country}_{nums}.csv'), index=False)\n",
    "    \n",
    "    print(f\"Done Reading and Saving file {nums}!\")\n",
    "    \n",
    "    pass"
   ]
  },
  {
   "cell_type": "code",
   "execution_count": 63,
   "metadata": {},
   "outputs": [
    {
     "name": "stdout",
     "output_type": "stream",
     "text": [
      "CPU times: user 1.98 ms, sys: 926 µs, total: 2.91 ms\n",
      "Wall time: 2.12 ms\n"
     ]
    }
   ],
   "source": [
    "%%time\n",
    "\n",
    "results = []\n",
    "for num, file in enumerate(files):\n",
    "    results.append(get_csv_files(file, path_out=path, new_dir='csv_files', country=my_country, nums=num))"
   ]
  },
  {
   "cell_type": "code",
   "execution_count": 64,
   "metadata": {
    "scrolled": true
   },
   "outputs": [
    {
     "name": "stdout",
     "output_type": "stream",
     "text": [
      "Done Reading and Saving file 9!\n",
      "Done Reading and Saving file 0!\n",
      "Done Reading and Saving file 15!\n",
      "Done Reading and Saving file 11!\n",
      "Done Reading and Saving file 6!\n",
      "Done Reading and Saving file 3!\n",
      "Done Reading and Saving file 13!\n",
      "Done Reading and Saving file 14!\n",
      "Done Reading and Saving file 5!\n",
      "Done Reading and Saving file 4!\n",
      "Done Reading and Saving file 12!\n",
      "Done Reading and Saving file 1!\n",
      "Done Reading and Saving file 8!\n",
      "Done Reading and Saving file 10!\n",
      "Done Reading and Saving file 2!\n",
      "Done Reading and Saving file 7!\n",
      "CPU times: user 50 s, sys: 6.04 s, total: 56 s\n",
      "Wall time: 45.6 s\n"
     ]
    },
    {
     "data": {
      "text/plain": [
       "([None,\n",
       "  None,\n",
       "  None,\n",
       "  None,\n",
       "  None,\n",
       "  None,\n",
       "  None,\n",
       "  None,\n",
       "  None,\n",
       "  None,\n",
       "  None,\n",
       "  None,\n",
       "  None,\n",
       "  None,\n",
       "  None,\n",
       "  None],)"
      ]
     },
     "execution_count": 64,
     "metadata": {},
     "output_type": "execute_result"
    }
   ],
   "source": [
    "%%time\n",
    "\n",
    "dask.compute(results);"
   ]
  },
  {
   "cell_type": "markdown",
   "metadata": {},
   "source": [
    "Double check that you have the correct amount of decompressed files with the cell below."
   ]
  },
  {
   "cell_type": "code",
   "execution_count": 65,
   "metadata": {},
   "outputs": [
    {
     "data": {
      "text/plain": [
       "16"
      ]
     },
     "execution_count": 65,
     "metadata": {},
     "output_type": "execute_result"
    }
   ],
   "source": [
    "csv_files = check_or_add(path, my_country, 'csv_files')\n",
    "len(os.listdir(csv_files))"
   ]
  },
  {
   "cell_type": "markdown",
   "metadata": {},
   "source": [
    "## Exercise 2\n",
    "\n",
    "Create a futures object and unzip the files for your second country."
   ]
  },
  {
   "cell_type": "code",
   "execution_count": null,
   "metadata": {},
   "outputs": [],
   "source": []
  },
  {
   "cell_type": "markdown",
   "metadata": {},
   "source": [
    "# Awesome Work! Now to Clean and Reshape our Data!"
   ]
  }
 ],
 "metadata": {
  "kernelspec": {
   "display_name": "SciPy20JP",
   "language": "python",
   "name": "dask_tutorial_env"
  },
  "language_info": {
   "codemirror_mode": {
    "name": "ipython",
    "version": 3
   },
   "file_extension": ".py",
   "mimetype": "text/x-python",
   "name": "python",
   "nbconvert_exporter": "python",
   "pygments_lexer": "ipython3",
   "version": "3.8.5"
  }
 },
 "nbformat": 4,
 "nbformat_minor": 4
}
