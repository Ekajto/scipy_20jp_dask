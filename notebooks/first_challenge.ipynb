{
 "cells": [
  {
   "cell_type": "markdown",
   "metadata": {},
   "source": [
    "# First Challenge"
   ]
  },
  {
   "cell_type": "markdown",
   "metadata": {},
   "source": [
    "Now is your turn to get your own countries for your personal analysis. Try as best as you can to not go to the previous notebook and see how far you can get.\n",
    "\n",
    "1. Pick a country (or multiple countries) you would like to visit.\n",
    "2. Download 5 files overall. (The formulas we used earlier is in the cell below for convenience.)\n",
    "3. Decompress the files and convert them to CSVs.\n",
    "4. Save all CSV files.\n",
    "5. Put in the document below the country or countries you have picked.\n",
    "\n",
    "[Collaborative Document link](https://docs.google.com/document/d/18FlLa16b_7MkUa1cuiM9C-syOP7jLVkbRVyOv1F326Q/edit?usp=sharing)"
   ]
  },
  {
   "cell_type": "code",
   "execution_count": null,
   "metadata": {},
   "outputs": [],
   "source": [
    "import pandas as pd\n",
    "from bs4 import BeautifulSoup\n",
    "import requests\n",
    "import os\n",
    "import wget\n",
    "import dask\n",
    "import numpy as np\n",
    "from glob import glob\n",
    "import urllib\n",
    "from typing import Iterable, Union\n",
    "from PIL import Image\n",
    "from io import BytesIO\n",
    "from collections import defaultdict\n",
    "from currency_converter import CurrencyConverter\n",
    "from utilities import check_or_add, get_me_specific_data, image_show\n",
    "\n",
    "pd.options.display.max_columns = None"
   ]
  },
  {
   "cell_type": "code",
   "execution_count": null,
   "metadata": {},
   "outputs": [],
   "source": [
    "path = '../data'\n",
    "\n",
    "# uncomment this one if you are using windows instead of a mac or linux\n",
    "# path = '..\\data' "
   ]
  },
  {
   "cell_type": "code",
   "execution_count": null,
   "metadata": {},
   "outputs": [],
   "source": [
    "html_doc = os.path.join(path, 'raw_files', 'insideairbnb.html')\n",
    "\n",
    "with open(html_doc, 'r') as file: \n",
    "    soup = BeautifulSoup(file, 'html.parser')"
   ]
  },
  {
   "cell_type": "code",
   "execution_count": null,
   "metadata": {},
   "outputs": [],
   "source": [
    "list_of_links = [link.get('href') for link in soup.find_all('a')]\n",
    "list_of_links[:10]"
   ]
  }
 ],
 "metadata": {
  "kernelspec": {
   "display_name": "SciPy20JP",
   "language": "python",
   "name": "dask_tutorial_env"
  },
  "language_info": {
   "codemirror_mode": {
    "name": "ipython",
    "version": 3
   },
   "file_extension": ".py",
   "mimetype": "text/x-python",
   "name": "python",
   "nbconvert_exporter": "python",
   "pygments_lexer": "ipython3",
   "version": "3.8.5"
  }
 },
 "nbformat": 4,
 "nbformat_minor": 4
}
